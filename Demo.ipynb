{
 "cells": [
  {
   "cell_type": "markdown",
   "metadata": {},
   "source": [
    "# Demo dự đoán 3 trận đấu lớn trong giải đấu quốc tế MSI của LOL vào ngày 19/5/2024 bằng decision tree"
   ]
  },
  {
   "cell_type": "code",
   "execution_count": 1,
   "metadata": {},
   "outputs": [],
   "source": [
    "import pandas as pd\n",
    "import numpy as np\n",
    "import requests\n",
    "import pickle"
   ]
  },
  {
   "cell_type": "code",
   "execution_count": 2,
   "metadata": {},
   "outputs": [],
   "source": [
    "with open('model.pkl', 'rb') as file:\n",
    "    classifier = pickle.load(file)"
   ]
  },
  {
   "cell_type": "code",
   "execution_count": 9,
   "metadata": {},
   "outputs": [],
   "source": [
    "def get_sec(time_str):\n",
    "    m, s = time_str.split(':')\n",
    "    return float(60 * int(m) + int(s))\n",
    "\n",
    "def preprocess(df):\n",
    "    df[\"Game duration_x\"] = df[\"Game duration_x\"].apply(lambda x: get_sec(x))\n",
    "    df[\"Game duration_y\"] = df[\"Game duration_y\"].apply(lambda x: get_sec(x))\n",
    "\n",
    "    df[\"Season_y\"] = df[\"Season_y\"].apply(lambda x: str(x).replace('S', '')).astype(float)\n",
    "    df[\"Season_x\"] = df[\"Season_x\"].apply(lambda x: str(x).replace('S', '')).astype(float)\n",
    "\n",
    "    df[\"Win rate_x\"] = df[\"Win rate_x\"].apply(lambda x: float(x.replace(\"%\", \"\")))\n",
    "    df[\"Win rate_y\"] = df[\"Win rate_y\"].apply(lambda x: float(x.replace(\"%\", \"\")))\n",
    "\n",
    "    object_columns = list(df.select_dtypes(include='object').columns)\n",
    "    for column in object_columns:\n",
    "        df[column] = df[column].replace('-', float(0)).astype(float)\n",
    "    return df"
   ]
  },
  {
   "cell_type": "code",
   "execution_count": 21,
   "metadata": {},
   "outputs": [],
   "source": [
    "def predict(team1,region1, team2, region2):\n",
    "    #predictingModel = classifier\n",
    "    url1 = ''\n",
    "    url2 = ''\n",
    "    if region1 == \"LEC\":\n",
    "        url1 = 'https://gol.gg/teams/list/season-ALL/split-ALL/tournament-LEC%20Spring%20Season%202024/'\n",
    "    elif region1 == \"LCS\":\n",
    "        url1 = 'https://gol.gg/teams/list/season-ALL/split-ALL/tournament-LCS%20Spring%202024/'\n",
    "    elif region1 == \"LCK\":\n",
    "        url1 = 'https://gol.gg/teams/list/season-ALL/split-ALL/tournament-LCK%20Spring%202024/'\n",
    "    elif region1 == \"LPL\":\n",
    "        url1 = 'https://gol.gg/teams/list/season-ALL/split-ALL/tournament-LPL%20Spring%202024/'\n",
    "    elif region1 == \"VCS\":\n",
    "        url1 = 'https://gol.gg/teams/list/season-ALL/split-ALL/tournament-VCS%20Spring%202024/'\n",
    "\n",
    "    if region2 == \"LEC\":\n",
    "        url2 = 'https://gol.gg/teams/list/season-ALL/split-ALL/tournament-LEC%20Spring%20Season%202024/'\n",
    "                \n",
    "    elif region2 == \"LCS\":\n",
    "        url2 = 'https://gol.gg/teams/list/season-ALL/split-ALL/tournament-LCS%20Spring%202024/'\n",
    "    elif region2 == \"LCK\":\n",
    "        url2 = 'https://gol.gg/teams/list/season-ALL/split-ALL/tournament-LCK%20Spring%202024/'\n",
    "    elif region2 == \"LPL\":\n",
    "        url2 = 'https://gol.gg/teams/list/season-ALL/split-ALL/tournament-LPL%20Spring%202024/'\n",
    "    elif region2 == \"VCS\":\n",
    "        url2 = 'https://gol.gg/teams/list/season-ALL/split-ALL/tournament-VCS%20Spring%202024/'\n",
    "    data1 = pd.read_html(requests.get(url1, headers={'User-agent': 'your bot 0.1'}).text)[1]\n",
    "    data2 = pd.read_html(requests.get(url2, headers={'User-agent': 'your bot 0.1'}).text)[1]\n",
    "\n",
    "    teamOne = data1[data1[\"Name\"] == team1]\n",
    "    teamTwo = data2[data2[\"Name\"] == team2]\n",
    "\n",
    "    teamOne= teamOne.rename(columns={'Season': 'Season_x'})\n",
    "    teamTwo= teamTwo.rename(columns={'Season': 'Season_y'})\n",
    "\n",
    "    predictionsData = pd.merge(teamOne, teamTwo,left_on=\"Season_x\", right_on=\"Season_y\")\n",
    "    predictionsData = predictionsData.drop(columns=['Name_x', 'Name_y', 'Region_x','Region_y','VGPG_x','VGPG_y'])\n",
    "\n",
    "    predictionsData = preprocess(predictionsData)\n",
    "\n",
    "    probabilities = classifier.predict_proba(predictionsData)\n",
    "    \n",
    "    team1Result = probabilities[0][1]\n",
    "    team2Result = probabilities[0][0]\n",
    "    if (team1Result > team2Result):\n",
    "        print(\"Đội chiến thắng là\",team1)\n",
    "    else:\n",
    "        print(\"Đội chiến thắng là\",team2)\n",
    "    #return predictionsData\n"
   ]
  },
  {
   "cell_type": "code",
   "execution_count": 11,
   "metadata": {},
   "outputs": [
    {
     "name": "stderr",
     "output_type": "stream",
     "text": [
      "C:\\Users\\Admin\\AppData\\Local\\Temp\\ipykernel_9332\\1188245402.py:27: FutureWarning: Passing literal html to 'read_html' is deprecated and will be removed in a future version. To read from a literal string, wrap it in a 'StringIO' object.\n",
      "  data1 = pd.read_html(requests.get(url1, headers={'User-agent': 'your bot 0.1'}).text)[1]\n",
      "C:\\Users\\Admin\\AppData\\Local\\Temp\\ipykernel_9332\\1188245402.py:28: FutureWarning: Passing literal html to 'read_html' is deprecated and will be removed in a future version. To read from a literal string, wrap it in a 'StringIO' object.\n",
      "  data2 = pd.read_html(requests.get(url2, headers={'User-agent': 'your bot 0.1'}).text)[1]\n"
     ]
    },
    {
     "name": "stdout",
     "output_type": "stream",
     "text": [
      "Đội chiến thắng là  T1\n"
     ]
    }
   ],
   "source": [
    "predict(\"T1\",\"LCK\",\"G2 Esports\",\"LEC\")"
   ]
  },
  {
   "cell_type": "code",
   "execution_count": 13,
   "metadata": {},
   "outputs": [
    {
     "name": "stderr",
     "output_type": "stream",
     "text": [
      "C:\\Users\\Admin\\AppData\\Local\\Temp\\ipykernel_9332\\1188245402.py:27: FutureWarning: Passing literal html to 'read_html' is deprecated and will be removed in a future version. To read from a literal string, wrap it in a 'StringIO' object.\n",
      "  data1 = pd.read_html(requests.get(url1, headers={'User-agent': 'your bot 0.1'}).text)[1]\n"
     ]
    },
    {
     "name": "stdout",
     "output_type": "stream",
     "text": [
      "Đội chiến thắng là  Bilibili Gaming\n"
     ]
    },
    {
     "name": "stderr",
     "output_type": "stream",
     "text": [
      "C:\\Users\\Admin\\AppData\\Local\\Temp\\ipykernel_9332\\1188245402.py:28: FutureWarning: Passing literal html to 'read_html' is deprecated and will be removed in a future version. To read from a literal string, wrap it in a 'StringIO' object.\n",
      "  data2 = pd.read_html(requests.get(url2, headers={'User-agent': 'your bot 0.1'}).text)[1]\n"
     ]
    }
   ],
   "source": [
    "predict(\"Bilibili Gaming\",\"LPL\",\"T1\",\"LCK\")"
   ]
  },
  {
   "cell_type": "code",
   "execution_count": 20,
   "metadata": {},
   "outputs": [
    {
     "name": "stderr",
     "output_type": "stream",
     "text": [
      "C:\\Users\\Admin\\AppData\\Local\\Temp\\ipykernel_9332\\1326592844.py:27: FutureWarning: Passing literal html to 'read_html' is deprecated and will be removed in a future version. To read from a literal string, wrap it in a 'StringIO' object.\n",
      "  data1 = pd.read_html(requests.get(url1, headers={'User-agent': 'your bot 0.1'}).text)[1]\n"
     ]
    },
    {
     "name": "stdout",
     "output_type": "stream",
     "text": [
      "Đội chiến thắng là Gen.G eSports\n"
     ]
    },
    {
     "name": "stderr",
     "output_type": "stream",
     "text": [
      "C:\\Users\\Admin\\AppData\\Local\\Temp\\ipykernel_9332\\1326592844.py:28: FutureWarning: Passing literal html to 'read_html' is deprecated and will be removed in a future version. To read from a literal string, wrap it in a 'StringIO' object.\n",
      "  data2 = pd.read_html(requests.get(url2, headers={'User-agent': 'your bot 0.1'}).text)[1]\n"
     ]
    },
    {
     "data": {
      "text/html": [
       "<div>\n",
       "<style scoped>\n",
       "    .dataframe tbody tr th:only-of-type {\n",
       "        vertical-align: middle;\n",
       "    }\n",
       "\n",
       "    .dataframe tbody tr th {\n",
       "        vertical-align: top;\n",
       "    }\n",
       "\n",
       "    .dataframe thead th {\n",
       "        text-align: right;\n",
       "    }\n",
       "</style>\n",
       "<table border=\"1\" class=\"dataframe\">\n",
       "  <thead>\n",
       "    <tr style=\"text-align: right;\">\n",
       "      <th></th>\n",
       "      <th>Season_x</th>\n",
       "      <th>Games_x</th>\n",
       "      <th>Win rate_x</th>\n",
       "      <th>K:D_x</th>\n",
       "      <th>GPM_x</th>\n",
       "      <th>GDM_x</th>\n",
       "      <th>Game duration_x</th>\n",
       "      <th>Kills / game_x</th>\n",
       "      <th>Deaths / game_x</th>\n",
       "      <th>Towers killed_x</th>\n",
       "      <th>...</th>\n",
       "      <th>TD@15_y</th>\n",
       "      <th>GD@15_y</th>\n",
       "      <th>PPG_y</th>\n",
       "      <th>NASHPG_y</th>\n",
       "      <th>NASH%_y</th>\n",
       "      <th>CSM_y</th>\n",
       "      <th>DPM_y</th>\n",
       "      <th>WPM_y</th>\n",
       "      <th>VWPM_y</th>\n",
       "      <th>WCPM_y</th>\n",
       "    </tr>\n",
       "  </thead>\n",
       "  <tbody>\n",
       "    <tr>\n",
       "      <th>0</th>\n",
       "      <td>14.0</td>\n",
       "      <td>39</td>\n",
       "      <td>87.2</td>\n",
       "      <td>1.86</td>\n",
       "      <td>1988</td>\n",
       "      <td>297</td>\n",
       "      <td>1855.0</td>\n",
       "      <td>15.3</td>\n",
       "      <td>8.2</td>\n",
       "      <td>8.5</td>\n",
       "      <td>...</td>\n",
       "      <td>0.0</td>\n",
       "      <td>0.0</td>\n",
       "      <td>0.0</td>\n",
       "      <td>1.03</td>\n",
       "      <td>78.2</td>\n",
       "      <td>34.5</td>\n",
       "      <td>2645</td>\n",
       "      <td>0.0</td>\n",
       "      <td>0.0</td>\n",
       "      <td>0.0</td>\n",
       "    </tr>\n",
       "  </tbody>\n",
       "</table>\n",
       "<p>1 rows × 56 columns</p>\n",
       "</div>"
      ],
      "text/plain": [
       "   Season_x  Games_x  Win rate_x  K:D_x  GPM_x  GDM_x  Game duration_x  \\\n",
       "0      14.0       39        87.2   1.86   1988    297           1855.0   \n",
       "\n",
       "   Kills / game_x  Deaths / game_x  Towers killed_x  ...  TD@15_y  GD@15_y  \\\n",
       "0            15.3              8.2              8.5  ...      0.0      0.0   \n",
       "\n",
       "   PPG_y  NASHPG_y  NASH%_y  CSM_y  DPM_y  WPM_y  VWPM_y  WCPM_y  \n",
       "0    0.0      1.03     78.2   34.5   2645    0.0     0.0     0.0  \n",
       "\n",
       "[1 rows x 56 columns]"
      ]
     },
     "execution_count": 20,
     "metadata": {},
     "output_type": "execute_result"
    }
   ],
   "source": [
    "predict(\"Gen.G eSports\",\"LCK\",\"Bilibili Gaming\",\"LPL\")"
   ]
  },
  {
   "cell_type": "markdown",
   "metadata": {},
   "source": [
    "## Cả 3 dựa đoán từ model đều đạt kết quả  chính  xác, một kết quả rất khả quan cho mô hình"
   ]
  }
 ],
 "metadata": {
  "kernelspec": {
   "display_name": "Python 3",
   "language": "python",
   "name": "python3"
  },
  "language_info": {
   "codemirror_mode": {
    "name": "ipython",
    "version": 3
   },
   "file_extension": ".py",
   "mimetype": "text/x-python",
   "name": "python",
   "nbconvert_exporter": "python",
   "pygments_lexer": "ipython3",
   "version": "3.11.5"
  }
 },
 "nbformat": 4,
 "nbformat_minor": 2
}
